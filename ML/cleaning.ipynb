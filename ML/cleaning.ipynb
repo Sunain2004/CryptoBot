{
 "cells": [
  {
   "cell_type": "code",
   "execution_count": 1,
   "metadata": {},
   "outputs": [],
   "source": [
    "\n",
    "import numpy as np # linear algebra\n",
    "import pandas as pd # data processing, CSV file I/O (e.g. pd.read_csv)\n",
    "\n",
    "# Input data files are available in the read-only \"../input/\" directory\n",
    "# For example, running this (by clicking run or pressing Shift+Enter) will list all files under the input directory\n",
    " \n",
    "import os\n",
    "for dirname, _, filenames in os.walk('/kaggle/input'):\n",
    "    for filename in filenames:\n",
    "        print(os.path.join(dirname, filename))"
   ]
  },
  {
   "cell_type": "code",
   "execution_count": 2,
   "metadata": {},
   "outputs": [],
   "source": [
    "filepath = \"H:/Projects/CryptoBot/btcusd_1-min_data.csv\"\n",
    "data = pd.read_csv(filepath)\n"
   ]
  },
  {
   "cell_type": "code",
   "execution_count": 3,
   "metadata": {},
   "outputs": [
    {
     "name": "stdout",
     "output_type": "stream",
     "text": [
      "Dataset Shape: (6747281, 6)\n",
      "Column Names: ['Timestamp', 'Open', 'High', 'Low', 'Close', 'Volume']\n",
      "Data Types\n",
      "Timestamp    float64\n",
      "Open         float64\n",
      "High         float64\n",
      "Low          float64\n",
      "Close        float64\n",
      "Volume       float64\n",
      "dtype: object\n",
      "\n",
      "Null Values in Each Column:\n",
      "Timestamp    1\n",
      "Open         0\n",
      "High         0\n",
      "Low          0\n",
      "Close        0\n",
      "Volume       0\n",
      "dtype: int64\n"
     ]
    }
   ],
   "source": [
    "data.dropna()\n",
    "print(f\"Dataset Shape: {data.shape}\")\n",
    "print(f\"Column Names: {data.columns.to_list()}\")\n",
    "print(f\"Data Types\")\n",
    "print(data.dtypes)\n",
    "print(\"\\nNull Values in Each Column:\")\n",
    "print(data.isnull().sum())"
   ]
  },
  {
   "cell_type": "code",
   "execution_count": 4,
   "metadata": {},
   "outputs": [
    {
     "name": "stdout",
     "output_type": "stream",
     "text": [
      "Null values in 'timestamp' column: 1\n",
      "Null values in 'timestamp' column: 0\n"
     ]
    }
   ],
   "source": [
    "print(f\"Null values in 'timestamp' column: {data['Timestamp'].isnull().sum()}\")\n",
    "data['Timestamp']= data['Timestamp'].fillna(data[\"Timestamp\"].median())\n",
    "print(f\"Null values in 'timestamp' column: {data['Timestamp'].isnull().sum()}\")\n"
   ]
  },
  {
   "cell_type": "code",
   "execution_count": 5,
   "metadata": {},
   "outputs": [],
   "source": [
    "data['Timestamp'] =pd.to_datetime(data['Timestamp'],unit = 's')"
   ]
  },
  {
   "cell_type": "code",
   "execution_count": 6,
   "metadata": {},
   "outputs": [
    {
     "name": "stdout",
     "output_type": "stream",
     "text": [
      "Timestamp    datetime64[ns]\n",
      "Open                float64\n",
      "High                float64\n",
      "Low                 float64\n",
      "Close               float64\n",
      "Volume              float64\n",
      "dtype: object\n"
     ]
    }
   ],
   "source": [
    "print(data.dtypes)"
   ]
  },
  {
   "cell_type": "code",
   "execution_count": 7,
   "metadata": {},
   "outputs": [
    {
     "data": {
      "text/html": [
       "<div>\n",
       "<style scoped>\n",
       "    .dataframe tbody tr th:only-of-type {\n",
       "        vertical-align: middle;\n",
       "    }\n",
       "\n",
       "    .dataframe tbody tr th {\n",
       "        vertical-align: top;\n",
       "    }\n",
       "\n",
       "    .dataframe thead th {\n",
       "        text-align: right;\n",
       "    }\n",
       "</style>\n",
       "<table border=\"1\" class=\"dataframe\">\n",
       "  <thead>\n",
       "    <tr style=\"text-align: right;\">\n",
       "      <th></th>\n",
       "      <th>Timestamp</th>\n",
       "      <th>Open</th>\n",
       "      <th>High</th>\n",
       "      <th>Low</th>\n",
       "      <th>Close</th>\n",
       "      <th>Volume</th>\n",
       "    </tr>\n",
       "  </thead>\n",
       "  <tbody>\n",
       "    <tr>\n",
       "      <th>0</th>\n",
       "      <td>2012-01-01 10:01:00</td>\n",
       "      <td>4.58</td>\n",
       "      <td>4.58</td>\n",
       "      <td>4.58</td>\n",
       "      <td>4.58</td>\n",
       "      <td>0.0</td>\n",
       "    </tr>\n",
       "    <tr>\n",
       "      <th>1</th>\n",
       "      <td>2012-01-01 10:02:00</td>\n",
       "      <td>4.58</td>\n",
       "      <td>4.58</td>\n",
       "      <td>4.58</td>\n",
       "      <td>4.58</td>\n",
       "      <td>0.0</td>\n",
       "    </tr>\n",
       "    <tr>\n",
       "      <th>2</th>\n",
       "      <td>2012-01-01 10:03:00</td>\n",
       "      <td>4.58</td>\n",
       "      <td>4.58</td>\n",
       "      <td>4.58</td>\n",
       "      <td>4.58</td>\n",
       "      <td>0.0</td>\n",
       "    </tr>\n",
       "    <tr>\n",
       "      <th>3</th>\n",
       "      <td>2012-01-01 10:04:00</td>\n",
       "      <td>4.58</td>\n",
       "      <td>4.58</td>\n",
       "      <td>4.58</td>\n",
       "      <td>4.58</td>\n",
       "      <td>0.0</td>\n",
       "    </tr>\n",
       "    <tr>\n",
       "      <th>4</th>\n",
       "      <td>2012-01-01 10:05:00</td>\n",
       "      <td>4.58</td>\n",
       "      <td>4.58</td>\n",
       "      <td>4.58</td>\n",
       "      <td>4.58</td>\n",
       "      <td>0.0</td>\n",
       "    </tr>\n",
       "  </tbody>\n",
       "</table>\n",
       "</div>"
      ],
      "text/plain": [
       "            Timestamp  Open  High   Low  Close  Volume\n",
       "0 2012-01-01 10:01:00  4.58  4.58  4.58   4.58     0.0\n",
       "1 2012-01-01 10:02:00  4.58  4.58  4.58   4.58     0.0\n",
       "2 2012-01-01 10:03:00  4.58  4.58  4.58   4.58     0.0\n",
       "3 2012-01-01 10:04:00  4.58  4.58  4.58   4.58     0.0\n",
       "4 2012-01-01 10:05:00  4.58  4.58  4.58   4.58     0.0"
      ]
     },
     "execution_count": 7,
     "metadata": {},
     "output_type": "execute_result"
    }
   ],
   "source": [
    "data.head()"
   ]
  },
  {
   "cell_type": "code",
   "execution_count": 8,
   "metadata": {},
   "outputs": [
    {
     "name": "stdout",
     "output_type": "stream",
     "text": [
      "2025-01-21 00:00:00\n"
     ]
    }
   ],
   "source": [
    "print(max(data['Timestamp']))"
   ]
  },
  {
   "cell_type": "code",
   "execution_count": 9,
   "metadata": {},
   "outputs": [],
   "source": [
    "data['year'] = data['Timestamp'].dt.year\n"
   ]
  },
  {
   "cell_type": "code",
   "execution_count": 10,
   "metadata": {},
   "outputs": [],
   "source": [
    "def get_first(series):\n",
    "    return series.iloc[0]\n",
    "def get_last(series):\n",
    "    return series.iloc[-1]"
   ]
  },
  {
   "cell_type": "code",
   "execution_count": 11,
   "metadata": {},
   "outputs": [
    {
     "data": {
      "text/html": [
       "<div>\n",
       "<style scoped>\n",
       "    .dataframe tbody tr th:only-of-type {\n",
       "        vertical-align: middle;\n",
       "    }\n",
       "\n",
       "    .dataframe tbody tr th {\n",
       "        vertical-align: top;\n",
       "    }\n",
       "\n",
       "    .dataframe thead th {\n",
       "        text-align: right;\n",
       "    }\n",
       "</style>\n",
       "<table border=\"1\" class=\"dataframe\">\n",
       "  <thead>\n",
       "    <tr style=\"text-align: right;\">\n",
       "      <th></th>\n",
       "      <th>year</th>\n",
       "      <th>Open</th>\n",
       "      <th>High</th>\n",
       "      <th>Close</th>\n",
       "      <th>Volume</th>\n",
       "    </tr>\n",
       "  </thead>\n",
       "  <tbody>\n",
       "    <tr>\n",
       "      <th>0</th>\n",
       "      <td>2012</td>\n",
       "      <td>4.58</td>\n",
       "      <td>16.41</td>\n",
       "      <td>13.24</td>\n",
       "      <td>5.673124e+05</td>\n",
       "    </tr>\n",
       "    <tr>\n",
       "      <th>1</th>\n",
       "      <td>2013</td>\n",
       "      <td>13.24</td>\n",
       "      <td>1163.00</td>\n",
       "      <td>734.33</td>\n",
       "      <td>5.029942e+06</td>\n",
       "    </tr>\n",
       "    <tr>\n",
       "      <th>2</th>\n",
       "      <td>2014</td>\n",
       "      <td>734.33</td>\n",
       "      <td>995.00</td>\n",
       "      <td>316.67</td>\n",
       "      <td>5.023635e+06</td>\n",
       "    </tr>\n",
       "    <tr>\n",
       "      <th>3</th>\n",
       "      <td>2015</td>\n",
       "      <td>316.67</td>\n",
       "      <td>502.00</td>\n",
       "      <td>431.28</td>\n",
       "      <td>5.526717e+06</td>\n",
       "    </tr>\n",
       "    <tr>\n",
       "      <th>4</th>\n",
       "      <td>2016</td>\n",
       "      <td>430.91</td>\n",
       "      <td>980.74</td>\n",
       "      <td>963.16</td>\n",
       "      <td>1.992483e+06</td>\n",
       "    </tr>\n",
       "    <tr>\n",
       "      <th>5</th>\n",
       "      <td>2017</td>\n",
       "      <td>963.16</td>\n",
       "      <td>19666.00</td>\n",
       "      <td>13808.19</td>\n",
       "      <td>4.697959e+06</td>\n",
       "    </tr>\n",
       "    <tr>\n",
       "      <th>6</th>\n",
       "      <td>2018</td>\n",
       "      <td>13840.53</td>\n",
       "      <td>57864.00</td>\n",
       "      <td>57835.00</td>\n",
       "      <td>3.932025e+06</td>\n",
       "    </tr>\n",
       "    <tr>\n",
       "      <th>7</th>\n",
       "      <td>2019</td>\n",
       "      <td>3750.62</td>\n",
       "      <td>13880.00</td>\n",
       "      <td>7139.78</td>\n",
       "      <td>2.995449e+06</td>\n",
       "    </tr>\n",
       "    <tr>\n",
       "      <th>8</th>\n",
       "      <td>2020</td>\n",
       "      <td>7145.05</td>\n",
       "      <td>29300.00</td>\n",
       "      <td>28920.98</td>\n",
       "      <td>3.072456e+06</td>\n",
       "    </tr>\n",
       "    <tr>\n",
       "      <th>9</th>\n",
       "      <td>2021</td>\n",
       "      <td>28912.47</td>\n",
       "      <td>69000.00</td>\n",
       "      <td>46648.83</td>\n",
       "      <td>1.804451e+06</td>\n",
       "    </tr>\n",
       "    <tr>\n",
       "      <th>10</th>\n",
       "      <td>2022</td>\n",
       "      <td>46659.24</td>\n",
       "      <td>48234.00</td>\n",
       "      <td>16567.00</td>\n",
       "      <td>8.341079e+05</td>\n",
       "    </tr>\n",
       "    <tr>\n",
       "      <th>11</th>\n",
       "      <td>2023</td>\n",
       "      <td>16567.00</td>\n",
       "      <td>44729.00</td>\n",
       "      <td>42639.00</td>\n",
       "      <td>6.815442e+05</td>\n",
       "    </tr>\n",
       "    <tr>\n",
       "      <th>12</th>\n",
       "      <td>2024</td>\n",
       "      <td>42652.00</td>\n",
       "      <td>108364.00</td>\n",
       "      <td>93381.00</td>\n",
       "      <td>6.579865e+05</td>\n",
       "    </tr>\n",
       "    <tr>\n",
       "      <th>13</th>\n",
       "      <td>2025</td>\n",
       "      <td>93347.00</td>\n",
       "      <td>109030.00</td>\n",
       "      <td>102174.00</td>\n",
       "      <td>1.305825e+04</td>\n",
       "    </tr>\n",
       "  </tbody>\n",
       "</table>\n",
       "</div>"
      ],
      "text/plain": [
       "    year      Open       High      Close        Volume\n",
       "0   2012      4.58      16.41      13.24  5.673124e+05\n",
       "1   2013     13.24    1163.00     734.33  5.029942e+06\n",
       "2   2014    734.33     995.00     316.67  5.023635e+06\n",
       "3   2015    316.67     502.00     431.28  5.526717e+06\n",
       "4   2016    430.91     980.74     963.16  1.992483e+06\n",
       "5   2017    963.16   19666.00   13808.19  4.697959e+06\n",
       "6   2018  13840.53   57864.00   57835.00  3.932025e+06\n",
       "7   2019   3750.62   13880.00    7139.78  2.995449e+06\n",
       "8   2020   7145.05   29300.00   28920.98  3.072456e+06\n",
       "9   2021  28912.47   69000.00   46648.83  1.804451e+06\n",
       "10  2022  46659.24   48234.00   16567.00  8.341079e+05\n",
       "11  2023  16567.00   44729.00   42639.00  6.815442e+05\n",
       "12  2024  42652.00  108364.00   93381.00  6.579865e+05\n",
       "13  2025  93347.00  109030.00  102174.00  1.305825e+04"
      ]
     },
     "execution_count": 11,
     "metadata": {},
     "output_type": "execute_result"
    }
   ],
   "source": [
    "yearly_summary = data.groupby('year').agg({\n",
    "    'Open': get_first,\n",
    "    'High':'max',\n",
    "    'Close':get_last,\n",
    "    'Volume': 'sum'\n",
    "}).reset_index()\n",
    "yearly_summary"
   ]
  },
  {
   "cell_type": "code",
   "execution_count": null,
   "metadata": {},
   "outputs": [],
   "source": []
  }
 ],
 "metadata": {
  "kernelspec": {
   "display_name": "venv",
   "language": "python",
   "name": "python3"
  },
  "language_info": {
   "codemirror_mode": {
    "name": "ipython",
    "version": 3
   },
   "file_extension": ".py",
   "mimetype": "text/x-python",
   "name": "python",
   "nbconvert_exporter": "python",
   "pygments_lexer": "ipython3",
   "version": "3.12.6"
  }
 },
 "nbformat": 4,
 "nbformat_minor": 2
}
